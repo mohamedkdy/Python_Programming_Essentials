{
 "cells": [
  {
   "cell_type": "markdown",
   "metadata": {},
   "source": [
    "# Practice Exercises for Logic and Conditionals"
   ]
  },
  {
   "cell_type": "code",
   "execution_count": 2,
   "metadata": {},
   "outputs": [
    {
     "name": "stdout",
     "output_type": "stream",
     "text": [
      "True False\n",
      "\n",
      "Logical Not\n",
      "===========\n",
      "False\n",
      "True\n",
      "\n",
      "Logical And\n",
      "===========\n",
      "True\n",
      "False\n",
      "False\n",
      "\n",
      "Logical OR\n",
      "==========\n",
      "True\n",
      "True\n",
      "False\n",
      "\n",
      "True\n"
     ]
    }
   ],
   "source": [
    "# Boolean values are True or False\n",
    "value1 = True\n",
    "value2 = False\n",
    "print(value1,value2)\n",
    "print(\"\")\n",
    "\n",
    "#Logical Not\n",
    "print(\"Logical Not\")\n",
    "print(\"===========\")\n",
    "print(not value1)\n",
    "print(not value2)\n",
    "print(\"\")\n",
    "\n",
    "#Logical And\n",
    "print(\"Logical And\")\n",
    "print(\"===========\")\n",
    "print(value1 and value1)\n",
    "print(value1 and value2)\n",
    "print(value2 and value2)\n",
    "print(\"\")\n",
    "\n",
    "#Logical OR\n",
    "print(\"Logical OR\")\n",
    "print(\"==========\")\n",
    "print(value1 or value1)\n",
    "print(value1 or value2)\n",
    "print(value2 or value2)\n",
    "print(\"\")\n",
    "\n",
    "value3= True\n",
    "value4= True\n",
    "print(value1 and ((value2 or value3) or value4))"
   ]
  },
  {
   "cell_type": "markdown",
   "metadata": {},
   "source": [
    "# Comparisons"
   ]
  },
  {
   "cell_type": "code",
   "execution_count": 3,
   "metadata": {},
   "outputs": [
    {
     "name": "stdout",
     "output_type": "stream",
     "text": [
      "Comparisons\n",
      "===========\n",
      "True\n",
      "False\n",
      "True\n",
      "False\n",
      "False\n",
      "True\n",
      "\n"
     ]
    }
   ],
   "source": [
    "print(\"Comparisons\")\n",
    "print(\"===========\")\n",
    "\n",
    "print(7 > 3)\n",
    "print(7 < 3)\n",
    "print(7 >= 3)\n",
    "print(7 <= 3)\n",
    "print(7 == 3)\n",
    "print(7 != 3)\n",
    "print(\"\")"
   ]
  },
  {
   "cell_type": "code",
   "execution_count": null,
   "metadata": {},
   "outputs": [],
   "source": []
  }
 ],
 "metadata": {
  "kernelspec": {
   "display_name": "Python 3",
   "language": "python",
   "name": "python3"
  },
  "language_info": {
   "codemirror_mode": {
    "name": "ipython",
    "version": 3
   },
   "file_extension": ".py",
   "mimetype": "text/x-python",
   "name": "python",
   "nbconvert_exporter": "python",
   "pygments_lexer": "ipython3",
   "version": "3.7.3"
  }
 },
 "nbformat": 4,
 "nbformat_minor": 2
}
