{
 "cells": [
  {
   "cell_type": "code",
   "execution_count": 1,
   "metadata": {},
   "outputs": [
    {
     "name": "stdout",
     "output_type": "stream",
     "text": [
      "68640\n"
     ]
    }
   ],
   "source": [
    "# There are 5280 feet in a mile. Write a Python statement that calculates and prints the number of feet in 13 miles.\n",
    "\n",
    "feet = 5280\n",
    "miles = 13\n",
    "print(miles * feet)"
   ]
  },
  {
   "cell_type": "code",
   "execution_count": 2,
   "metadata": {},
   "outputs": [
    {
     "name": "stdout",
     "output_type": "stream",
     "text": [
      "38367\n"
     ]
    }
   ],
   "source": [
    "# Write a Python statement that calculates and prints the number of seconds in 7 hours, 21 minutes and 37 seconds.\n",
    "\n",
    "print((7 * 60 + 21) * (60 + 27))"
   ]
  },
  {
   "cell_type": "code",
   "execution_count": 3,
   "metadata": {},
   "outputs": [
    {
     "name": "stdout",
     "output_type": "stream",
     "text": [
      "22\n"
     ]
    }
   ],
   "source": [
    "\"\"\"\n",
    "The perimeter of a rectangle is 2w + 2h , where ww and hh are the lengths of its sides. \n",
    "Write a Python statement that calculates and prints the length in inches of the perimeter\n",
    "of a rectangle with sides of length 4 and 7 inches. \n",
    "\"\"\"\n",
    "w = 4\n",
    "h = 7\n",
    "print((2 * w)+ (2 * h))"
   ]
  },
  {
   "cell_type": "code",
   "execution_count": 4,
   "metadata": {},
   "outputs": [
    {
     "name": "stdout",
     "output_type": "stream",
     "text": [
      "28\n"
     ]
    }
   ],
   "source": [
    "\"\"\"\n",
    "The area of a rectangle is wh, where w and h are the lengths of its sides.\n",
    "Note that the multiplication operation is not shown explicitly in this formula. \n",
    "This is standard practice in mathematics, but not in programming. \n",
    "Write a Python statement that calculates and prints the area in square inches of a rectangle with sides of length 4 and 7 inches.\n",
    "\n",
    "\"\"\"\n",
    "w = 4\n",
    "h = 7\n",
    "print(w *h)"
   ]
  },
  {
   "cell_type": "code",
   "execution_count": 5,
   "metadata": {},
   "outputs": [
    {
     "name": "stdout",
     "output_type": "stream",
     "text": [
      "50.24\n"
     ]
    }
   ],
   "source": [
    "\"\"\"\n",
    "The circumference of a circle is 2πr where r is the radius of the circle.\n",
    "Write a Python statement that calculates and prints the circumference in inches of a circle whose radius is 8 inches.\n",
    "Assume that the constant π=3.14.\n",
    "\"\"\"\n",
    "r = 8\n",
    "p = 3.14\n",
    "print(2 * r * p)"
   ]
  },
  {
   "cell_type": "code",
   "execution_count": 7,
   "metadata": {},
   "outputs": [
    {
     "name": "stdout",
     "output_type": "stream",
     "text": [
      "200.96\n"
     ]
    }
   ],
   "source": [
    "\"\"\"\n",
    "The area of a circle is πr^2, where rr is the radius of the circle. \n",
    "(The raised 2 in the formula is an exponent.) \n",
    "Write a Python statement that calculates and prints the area in square inches of a circle whose radius is 8 inches.\n",
    "Assume that the constant π=3.14.\n",
    "\"\"\"\n",
    "\n",
    "pi = 3.14\n",
    "r = 8\n",
    "print(3.14 *8 ** 2)"
   ]
  },
  {
   "cell_type": "code",
   "execution_count": 11,
   "metadata": {},
   "outputs": [
    {
     "name": "stdout",
     "output_type": "stream",
     "text": [
      "1967.1513572895665\n"
     ]
    }
   ],
   "source": [
    "\"\"\"\n",
    "Given pp dollars, the future value of this money when compounded yearly at a rate of rr percent interest for y years is \n",
    "p (1 + 0.01 r)^y. \n",
    "(Remember that you don't need to understand how this formula works, only how to translate it into Python.)\n",
    "Write a Python statement that calculates and prints the value of 1000 dollars compounded at 7 percent interest for 10 years.\n",
    "\"\"\"\n",
    "print(1000 * (1 + 0.01 * 7)** 10)"
   ]
  },
  {
   "cell_type": "code",
   "execution_count": 17,
   "metadata": {},
   "outputs": [
    {
     "name": "stdout",
     "output_type": "stream",
     "text": [
      "My name is  Joe\n",
      "My name is  Warren\n",
      "My named is Joe Warren\n"
     ]
    }
   ],
   "source": [
    "\"\"\"\n",
    "Write a single Python statement that combines the three strings \"My name is\",\"Joe\" and \"Warren\"\n",
    "(plus a couple of other small strings) into one larger string \"My name is Joe Warren.\" and prints the result.\n",
    "(Hint: Experiment with adding two strings in Python using the operator.) \n",
    "\"\"\"\n",
    "a = \"Joe\"\n",
    "b = \"Warren\"\n",
    "print(\"My name is \",a)\n",
    "print(\"My name is \", b)\n",
    "print(\"My named is\", a,b)"
   ]
  },
  {
   "cell_type": "code",
   "execution_count": 20,
   "metadata": {},
   "outputs": [
    {
     "name": "stdout",
     "output_type": "stream",
     "text": [
      "My name is Joe Warren is 65 years old\n"
     ]
    }
   ],
   "source": [
    "\"\"\"\n",
    "Write a Python expression that creates the string \"Joe Warren is 56 years old.\" from several strings including \"Joe Warren\" and the number 56 and then prints the result (Hint: Use the function str to convert the number into a string.)\n",
    "\"\"\"\n",
    "a = \"Joe Warren\"\n",
    "b = str(\"65 years old\")\n",
    "print(\"My name is\",a,\"is\",b)"
   ]
  },
  {
   "cell_type": "code",
   "execution_count": 30,
   "metadata": {},
   "outputs": [
    {
     "name": "stdout",
     "output_type": "stream",
     "text": [
      "5.0\n",
      "5.0\n"
     ]
    }
   ],
   "source": [
    "\"\"\"\n",
    "Challenge\n",
    "\"\"\"\n",
    "x0 =2\n",
    "x1 =5\n",
    "y0 =2\n",
    "y1 =6\n",
    "print((((x0 - x1)**2) + ((y0 - y1)**2)) ** 0.5)\n"
   ]
  },
  {
   "cell_type": "code",
   "execution_count": null,
   "metadata": {},
   "outputs": [],
   "source": []
  }
 ],
 "metadata": {
  "kernelspec": {
   "display_name": "Python 3",
   "language": "python",
   "name": "python3"
  },
  "language_info": {
   "codemirror_mode": {
    "name": "ipython",
    "version": 3
   },
   "file_extension": ".py",
   "mimetype": "text/x-python",
   "name": "python",
   "nbconvert_exporter": "python",
   "pygments_lexer": "ipython3",
   "version": "3.7.3"
  }
 },
 "nbformat": 4,
 "nbformat_minor": 2
}
