{
 "cells": [
  {
   "cell_type": "markdown",
   "metadata": {},
   "source": [
    "# Practice Exercises for Functions"
   ]
  },
  {
   "cell_type": "code",
   "execution_count": 9,
   "metadata": {},
   "outputs": [
    {
     "name": "stdout",
     "output_type": "stream",
     "text": [
      "13 miles equal 68640 feet.\n",
      "50 miles equal 264000 feet.\n"
     ]
    }
   ],
   "source": [
    "\"\"\"\n",
    "Write a Python function miles_to_feet that takes a parameter\n",
    "and returns the number of feet in miles miles.\n",
    "\"\"\"\n",
    "\n",
    "def miles_to_feet(miles):\n",
    "    return miles * 5280\n",
    "miles = 13\n",
    "print(str(miles) + \" miles equal \" + str(miles_to_feet(miles)) + \" feet.\")\n",
    "\n",
    "miles = 50\n",
    "print(str(miles) + \" miles equal \" + str(miles_to_feet(miles))+ \" feet.\")"
   ]
  },
  {
   "cell_type": "code",
   "execution_count": 11,
   "metadata": {},
   "outputs": [
    {
     "name": "stdout",
     "output_type": "stream",
     "text": [
      "7 hours, 21 minutes, and 37 seconds totals to 26497 seconds.\n"
     ]
    }
   ],
   "source": [
    "\"\"\"\n",
    "Write a Python function total_seconds that takes three parameters hours,minutes and seconds\n",
    "and returns the total number of seconds for minutes minutes and seconds seconds.\n",
    "\"\"\"\n",
    "def total_seconds(hours, minutes, seconds):\n",
    "    return(hours * 60 + minutes) * 60 +seconds\n",
    "hours = 7\n",
    "minutes = 21\n",
    "secondes = 37 \n",
    "\n",
    "hours, minutes, seconds = 7, 21, 37\n",
    "print(str(hours) + \" hours, \" + str(minutes) + \" minutes, and \" + \n",
    "      str(seconds) + \" seconds totals to \" + str(total_seconds(hours, minutes, seconds)) + \n",
    "      \" seconds.\")"
   ]
  },
  {
   "cell_type": "code",
   "execution_count": 13,
   "metadata": {},
   "outputs": [
    {
     "name": "stdout",
     "output_type": "stream",
     "text": [
      "A rectangle 4 inches wide and 7 inches high has a perimeter of 22 inches.\n",
      "A rectangle 7 inches wide and 4 inches high has a perimeter of 22 inches.\n",
      "A rectangle 10 inches wide and 10 inches high has a perimeter of 40 inches.\n"
     ]
    }
   ],
   "source": [
    "def rectangle_perimeter(width,heigth):\n",
    "    return width *2 + heigth *2\n",
    "\n",
    "width, height = 4, 7\n",
    "print(\"A rectangle \" + str(width) + \" inches wide and \" + str(height) + \n",
    "      \" inches high has a perimeter of \" + str(rectangle_perimeter(width, height)) + \" inches.\")\n",
    "\n",
    "width, height = 7, 4\n",
    "print(\"A rectangle \" + str(width) + \" inches wide and \" + str(height) + \n",
    "      \" inches high has a perimeter of \" + str(rectangle_perimeter(width, height)) + \" inches.\")\n",
    "\n",
    "width, height = 10, 10\n",
    "print(\"A rectangle \" + str(width) + \" inches wide and \" + str(height) + \n",
    "      \" inches high has a perimeter of \" + str(rectangle_perimeter(width, height)) + \" inches.\")"
   ]
  },
  {
   "cell_type": "code",
   "execution_count": 12,
   "metadata": {},
   "outputs": [
    {
     "name": "stdout",
     "output_type": "stream",
     "text": [
      "hello\n",
      "hello\n",
      "hello\n",
      "14\n",
      "-111.72000000000001\n"
     ]
    }
   ],
   "source": [
    "def sayhello():\n",
    "    \"\"\"\n",
    "    Prints \"hello\".\n",
    "    \"\"\"\n",
    "    print(\"hello\")\n",
    "\n",
    "# Call the function\n",
    "sayhello()\n",
    "sayhello()\n",
    "sayhello()\n",
    "\n",
    "def double(value):\n",
    "    \"\"\"\n",
    "    Return twice the input value\n",
    "    \"\"\"\n",
    "    return value * 2\n",
    "\n",
    "# Call the function and assign the result to a variable\n",
    "result = double(7)\n",
    "print(result)\n",
    "\n",
    "def product(value1, value2, value3):\n",
    "    \"\"\"\n",
    "    Returns the product of the three input values.\n",
    "    \"\"\"\n",
    "    prod = value1 * value2\n",
    "    prod = prod * value3\n",
    "    return prod\n",
    "\n",
    "# Call the function and assign the result to a variable\n",
    "result = product(7, 13.3, -1.2)\n",
    "print(result)\n"
   ]
  },
  {
   "cell_type": "code",
   "execution_count": null,
   "metadata": {},
   "outputs": [],
   "source": []
  }
 ],
 "metadata": {
  "kernelspec": {
   "display_name": "Python 3",
   "language": "python",
   "name": "python3"
  },
  "language_info": {
   "codemirror_mode": {
    "name": "ipython",
    "version": 3
   },
   "file_extension": ".py",
   "mimetype": "text/x-python",
   "name": "python",
   "nbconvert_exporter": "python",
   "pygments_lexer": "ipython3",
   "version": "3.7.3"
  }
 },
 "nbformat": 4,
 "nbformat_minor": 2
}
